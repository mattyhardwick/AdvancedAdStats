{
 "cells": [
  {
   "cell_type": "markdown",
   "metadata": {},
   "source": [
    "# Topic Modeling\n",
    "## Metadata and Review Data\n",
    "This notebook takes metadata from Amazon products and extracts the identifying keys ('asins') of Sperry Top-Sider products. It also extracts the reviews matching the asins and saves the reviews as a json."
   ]
  },
  {
   "cell_type": "markdown",
   "metadata": {},
   "source": [
    "## Metadata"
   ]
  },
  {
   "cell_type": "code",
   "execution_count": 1,
   "metadata": {},
   "outputs": [],
   "source": [
    "# load metadata\n",
    "metajson = open('meta_Clothing_Shoes_and_Jewelry.json', 'r')"
   ]
  },
  {
   "cell_type": "code",
   "execution_count": 2,
   "metadata": {},
   "outputs": [],
   "source": [
    "# create empty dictionary\n",
    "allproducts = {}\n",
    "listcategories = {}"
   ]
  },
  {
   "cell_type": "code",
   "execution_count": 3,
   "metadata": {},
   "outputs": [],
   "source": [
    "# create counter to show read progress\n",
    "count = 0"
   ]
  },
  {
   "cell_type": "code",
   "execution_count": 4,
   "metadata": {},
   "outputs": [
    {
     "name": "stdout",
     "output_type": "stream",
     "text": [
      "100000\n",
      "200000\n",
      "300000\n",
      "400000\n",
      "500000\n",
      "600000\n",
      "700000\n",
      "800000\n",
      "900000\n",
      "1000000\n",
      "1100000\n",
      "1200000\n",
      "1300000\n",
      "1400000\n",
      "1500000\n"
     ]
    }
   ],
   "source": [
    "# read in data\n",
    "for line in metajson:\n",
    "    count += 1\n",
    "    if count % 100000 == 0:\n",
    "        print(count)\n",
    "    product = eval(line)\n",
    "    \n",
    "    allproducts[ product['asin'] ] = product\n",
    "    \n",
    "    for categories in product['categories']:\n",
    "        for category in categories:\n",
    "            if category in listcategories:\n",
    "                listcategories[category] += 1\n",
    "            if category not in listcategories:\n",
    "                listcategories[category] = 1"
   ]
  },
  {
   "cell_type": "code",
   "execution_count": 5,
   "metadata": {},
   "outputs": [],
   "source": [
    "# restart counter\n",
    "count = 0"
   ]
  },
  {
   "cell_type": "code",
   "execution_count": 6,
   "metadata": {},
   "outputs": [
    {
     "name": "stdout",
     "output_type": "stream",
     "text": [
      "0.06651660520532346\n",
      "0.13303321041064692\n",
      "0.19954981561597038\n",
      "0.26606642082129384\n",
      "0.33258302602661727\n",
      "0.39909963123194075\n",
      "0.4656162364372642\n",
      "0.5321328416425877\n",
      "0.5986494468479111\n",
      "0.6651660520532345\n",
      "0.7316826572585581\n",
      "0.7981992624638815\n",
      "0.8647158676692049\n",
      "0.9312324728745284\n",
      "0.9977490780798518\n"
     ]
    }
   ],
   "source": [
    "# extract asins into set\n",
    "asins = set()\n",
    "\n",
    "for product in allproducts:\n",
    "    theproduct = allproducts[product]\n",
    "    count += 1\n",
    "    if count % 100000 == 0:\n",
    "        print(count/len(allproducts))\n",
    "    for categories in theproduct['categories']:\n",
    "        for category in categories:\n",
    "            if 'sperry top-sider' in category.lower():\n",
    "                asins.add(theproduct['asin'])"
   ]
  },
  {
   "cell_type": "code",
   "execution_count": 7,
   "metadata": {},
   "outputs": [],
   "source": [
    "# save asins as txt\n",
    "with open(\"asins.txt\", \"w\") as output:\n",
    "    output.write(str(asins))"
   ]
  },
  {
   "cell_type": "markdown",
   "metadata": {},
   "source": [
    "## Review Data"
   ]
  },
  {
   "cell_type": "code",
   "execution_count": 8,
   "metadata": {},
   "outputs": [],
   "source": [
    "# load review data\n",
    "reviewjson = open('reviews_Clothing_Shoes_and_Jewelry.json', 'r')"
   ]
  },
  {
   "cell_type": "code",
   "execution_count": 9,
   "metadata": {},
   "outputs": [],
   "source": [
    "# restart counter\n",
    "count = 0\n",
    "\n",
    "# create empty dictonary\n",
    "reviews = {}"
   ]
  },
  {
   "cell_type": "code",
   "execution_count": 10,
   "metadata": {},
   "outputs": [
    {
     "name": "stdout",
     "output_type": "stream",
     "text": [
      "100000\n",
      "200000\n",
      "300000\n",
      "400000\n",
      "500000\n",
      "600000\n",
      "700000\n",
      "800000\n",
      "900000\n",
      "1000000\n",
      "1100000\n",
      "1200000\n",
      "1300000\n",
      "1400000\n",
      "1500000\n",
      "1600000\n",
      "1700000\n",
      "1800000\n",
      "1900000\n",
      "2000000\n",
      "2100000\n",
      "2200000\n",
      "2300000\n",
      "2400000\n",
      "2500000\n",
      "2600000\n",
      "2700000\n",
      "2800000\n",
      "2900000\n",
      "3000000\n",
      "3100000\n",
      "3200000\n",
      "3300000\n",
      "3400000\n",
      "3500000\n",
      "3600000\n",
      "3700000\n",
      "3800000\n",
      "3900000\n",
      "4000000\n",
      "4100000\n",
      "4200000\n",
      "4300000\n",
      "4400000\n",
      "4500000\n",
      "4600000\n",
      "4700000\n",
      "4800000\n",
      "4900000\n",
      "5000000\n",
      "5100000\n",
      "5200000\n",
      "5300000\n",
      "5400000\n",
      "5500000\n",
      "5600000\n",
      "5700000\n"
     ]
    }
   ],
   "source": [
    "# extract reviews into dict\n",
    "for line in reviewjson:\n",
    "    count += 1\n",
    "    if count % 100000 == 0:\n",
    "        print(count)\n",
    "    review = eval(line)\n",
    "    theasin = review['asin']\n",
    "    reviewer = review['reviewerID']\n",
    "\n",
    "    if theasin in asins:\n",
    "        key = '%s.%s' % (theasin, reviewer)\n",
    "        reviews[key] = review"
   ]
  },
  {
   "cell_type": "code",
   "execution_count": 11,
   "metadata": {},
   "outputs": [],
   "source": [
    "# export json file\n",
    "import json\n",
    "json.dump(reviews, open('sperryreviews.json', 'w'))"
   ]
  },
  {
   "cell_type": "code",
   "execution_count": null,
   "metadata": {},
   "outputs": [],
   "source": []
  }
 ],
 "metadata": {
  "kernelspec": {
   "display_name": "Python 3",
   "language": "python",
   "name": "python3"
  },
  "language_info": {
   "codemirror_mode": {
    "name": "ipython",
    "version": 3
   },
   "file_extension": ".py",
   "mimetype": "text/x-python",
   "name": "python",
   "nbconvert_exporter": "python",
   "pygments_lexer": "ipython3",
   "version": "3.6.8"
  }
 },
 "nbformat": 4,
 "nbformat_minor": 2
}
